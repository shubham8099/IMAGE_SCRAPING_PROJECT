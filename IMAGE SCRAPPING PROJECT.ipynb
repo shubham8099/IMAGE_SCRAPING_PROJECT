{
 "cells": [
  {
   "cell_type": "code",
   "execution_count": 1,
   "id": "f7120444-3105-48ee-9066-87d00bd0a6a6",
   "metadata": {},
   "outputs": [],
   "source": [
    "# jai maa saraswati"
   ]
  },
  {
   "cell_type": "code",
   "execution_count": 2,
   "id": "e7514f47-d02a-4aba-9329-f27b1487aa38",
   "metadata": {},
   "outputs": [],
   "source": [
    "import requests\n",
    "from bs4 import BeautifulSoup\n",
    "from urllib.request import urlopen as uReq \n",
    "import logging \n",
    "#import pymongo\n",
    "import os "
   ]
  },
  {
   "cell_type": "code",
   "execution_count": 3,
   "id": "f7b454ef-e1a8-4e2f-ba14-721b9e8a2577",
   "metadata": {},
   "outputs": [],
   "source": [
    "save_dir = \"images/\"\n",
    "if not os.path.exists(save_dir):\n",
    "    os.makedirs(save_dir)"
   ]
  },
  {
   "cell_type": "code",
   "execution_count": 4,
   "id": "69a8c1a1-3a62-4e95-a647-8276dfe8abf3",
   "metadata": {},
   "outputs": [],
   "source": [
    "query = \"shubham\"\n",
    "response = requests.get(f\"https://www.google.com/search?q={query}&tbm=isch&ved=2ahUKEwijv_DS3uaCAxUv6DgGHb1YCHsQ2-cCegQIABAA&oq=python&gs_lcp=CgNpbWcQA1DxBFjxJWDwKGgAcAB4AIABAIgBAJIBAJgBAKABAaoBC2d3cy13aXotaW1nsAEAwAEB&sclient=img&ei=9eJlZePwFK_Q4-EPvbGh2Ac&bih=657&biw=1366\")"
   ]
  },
  {
   "cell_type": "code",
   "execution_count": 5,
   "id": "daed8dd5-ffab-49ae-b078-37c1d3a2d6ed",
   "metadata": {},
   "outputs": [],
   "source": [
    "soup = BeautifulSoup(response.content , 'html.parser')"
   ]
  },
  {
   "cell_type": "code",
   "execution_count": 6,
   "id": "fbe4b2e2-26c3-4898-af21-339b8052a81e",
   "metadata": {},
   "outputs": [],
   "source": [
    "images_tags = soup.find_all(\"img\")"
   ]
  },
  {
   "cell_type": "code",
   "execution_count": 7,
   "id": "0884d1f6-95ca-42ad-9461-38775a0c07f8",
   "metadata": {},
   "outputs": [
    {
     "data": {
      "text/plain": [
       "21"
      ]
     },
     "execution_count": 7,
     "metadata": {},
     "output_type": "execute_result"
    }
   ],
   "source": [
    "len(images_tags)"
   ]
  },
  {
   "cell_type": "code",
   "execution_count": 8,
   "id": "1e54e621-c98e-4271-99e6-327af0a22965",
   "metadata": {},
   "outputs": [],
   "source": [
    "del images_tags[0]"
   ]
  },
  {
   "cell_type": "code",
   "execution_count": 9,
   "id": "8987909d-b8c4-4f4f-940b-c37d63aaabe7",
   "metadata": {},
   "outputs": [],
   "source": [
    "img_data_mongo = []\n",
    "for i in images_tags:\n",
    "    image_url = i['src']\n",
    "    image_data = requests.get(image_url).content\n",
    "    mydic = {\"index\" : image_url , \"image\" : image_data}\n",
    "    with open(os.path.join(save_dir,f\"{query}_{images_tags.index(i)}.jpg\"), \"wb\") as f :\n",
    "              f.write(image_data)\n",
    "                            "
   ]
  },
  {
   "cell_type": "code",
   "execution_count": null,
   "id": "4b13fb1b-1033-4170-aa99-c47b3fca334f",
   "metadata": {},
   "outputs": [],
   "source": []
  }
 ],
 "metadata": {
  "kernelspec": {
   "display_name": "Python 3 (ipykernel)",
   "language": "python",
   "name": "python3"
  },
  "language_info": {
   "codemirror_mode": {
    "name": "ipython",
    "version": 3
   },
   "file_extension": ".py",
   "mimetype": "text/x-python",
   "name": "python",
   "nbconvert_exporter": "python",
   "pygments_lexer": "ipython3",
   "version": "3.10.8"
  }
 },
 "nbformat": 4,
 "nbformat_minor": 5
}
